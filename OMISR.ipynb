{
 "cells": [
  {
   "cell_type": "code",
   "execution_count": 95,
   "id": "cc9d1795-a5fe-4001-a020-a763bc9e1dc2",
   "metadata": {},
   "outputs": [],
   "source": [
    "import numpy as np\n",
    "import math\n",
    "from tqdm import tqdm, trange"
   ]
  },
  {
   "cell_type": "code",
   "execution_count": 96,
   "id": "d331b078-01b5-487e-9ac7-4fcabe9960dd",
   "metadata": {},
   "outputs": [],
   "source": [
    "def to_bin(x, d):\n",
    "    assert d >= 0\n",
    "    \n",
    "    if d == 0:\n",
    "        return \"\"\n",
    "    else:\n",
    "        return f'{x:0{d}b}'"
   ]
  },
  {
   "cell_type": "code",
   "execution_count": 98,
   "id": "8a4fd9ba-4106-4a85-8bb2-f3d5eac6120f",
   "metadata": {},
   "outputs": [],
   "source": [
    "def T(n):\n",
    "    return int((n+1) * n / 2)"
   ]
  },
  {
   "cell_type": "code",
   "execution_count": 106,
   "id": "aab2f13b-1f77-4668-b02c-d4a5c1ae4d62",
   "metadata": {},
   "outputs": [],
   "source": [
    "n = 5\n",
    "num_pairs = T(n-1)"
   ]
  },
  {
   "cell_type": "code",
   "execution_count": 99,
   "id": "ba985095-fbc2-40d7-ae2f-b82de545a0e7",
   "metadata": {},
   "outputs": [],
   "source": [
    "def conflicts(G_str, selected_str):\n",
    "    d = len(selected_str)\n",
    "    \n",
    "    if d == 0:\n",
    "        return False\n",
    "\n",
    "    to_check = G_str[T(d-1):T(d-1)+d]\n",
    "    for x, y in zip(selected_str, to_check):\n",
    "        if x == \"1\" and y == \"1\":\n",
    "            return True"
   ]
  },
  {
   "cell_type": "code",
   "execution_count": 100,
   "id": "3cd55816-2f03-4b97-aafe-c7e2323dec00",
   "metadata": {},
   "outputs": [],
   "source": [
    "def find_edge(j):\n",
    "    assert j >= 0  # j is one-indexed\n",
    "    \n",
    "    temp = 0\n",
    "    i = 1\n",
    "    while temp + i < j + 1:\n",
    "        temp += i\n",
    "        i += 1\n",
    "    return j - temp, i"
   ]
  },
  {
   "cell_type": "code",
   "execution_count": 101,
   "id": "694d079f-4081-4f6f-a642-03c8ab4dfd0f",
   "metadata": {},
   "outputs": [
    {
     "name": "stderr",
     "output_type": "stream",
     "text": [
      "100%|███████████████████████████████████████████████████████████████| 50/50 [00:46<00:00,  1.08it/s]\n"
     ]
    }
   ],
   "source": [
    "comp_ratios = {}\n",
    "\n",
    "for p in tqdm(np.linspace(0, 1, num=50)):\n",
    "    first_iter = True\n",
    "    for G_int in range(2**num_pairs):\n",
    "        G_str = to_bin(G_int, num_pairs)\n",
    "\n",
    "        # optimal offline algorithm\n",
    "        # TODO optimization: go in order of decreasing selected set size and break once you find a valid one\n",
    "        opt_val = 0\n",
    "        for i in range(2**n):\n",
    "            selected_str = to_bin(i, n)\n",
    "            valid_sel = True\n",
    "            for j, e in enumerate(G_str):\n",
    "                if e == \"1\":\n",
    "                    x, y = find_edge(j)\n",
    "                    if selected_str[x] == \"1\" and selected_str[y] == \"1\":\n",
    "                        valid_sel = False\n",
    "                        break\n",
    "            if valid_sel:\n",
    "                val = 0\n",
    "                for node in selected_str:\n",
    "                    if node == \"1\":\n",
    "                        val += 1\n",
    "                opt_val = max(opt_val, val)\n",
    "\n",
    "\n",
    "        # probabilistic greedy algorithm\n",
    "        F = {}\n",
    "\n",
    "        for i in range(2**n):\n",
    "            F[to_bin(i, n)] = 0\n",
    "\n",
    "        for d in range(n-1,-1,-1):\n",
    "            for i in range(2**d):\n",
    "                selected_str = to_bin(i, d)\n",
    "\n",
    "                if not conflicts(G_str, selected_str):  # all selected nodes are not joined to current node\n",
    "                    res = p * (1 + F[selected_str + \"1\"]) + (1-p) * F[selected_str + \"0\"]\n",
    "                else:\n",
    "                    res = F[selected_str + \"0\"]\n",
    "\n",
    "                F[selected_str] = res\n",
    "\n",
    "        greedy_val = F[\"\"]\n",
    "        \n",
    "        \n",
    "        ratio = opt_val / greedy_val if greedy_val > 0 else math.inf\n",
    "        \n",
    "        if first_iter:\n",
    "            best_G = G_str\n",
    "            comp_ratio = ratio\n",
    "            first_iter = False\n",
    "        elif ratio > comp_ratio:\n",
    "            best_G = G_str\n",
    "            comp_ratio = ratio\n",
    "\n",
    "    comp_ratios[p] = (best_G, comp_ratio)"
   ]
  },
  {
   "cell_type": "code",
   "execution_count": 102,
   "id": "5019db6e-ae79-4ce3-a059-b9ec9fac1382",
   "metadata": {},
   "outputs": [],
   "source": [
    "p = min(comp_ratios, key=lambda string: comp_ratios.get(string)[1])"
   ]
  },
  {
   "cell_type": "code",
   "execution_count": 103,
   "id": "9abad44f-5475-412f-82fa-b298f015a7be",
   "metadata": {},
   "outputs": [],
   "source": [
    "G_str, comp_ratio = comp_ratios[p]"
   ]
  },
  {
   "cell_type": "code",
   "execution_count": 104,
   "id": "b50ea76e-266d-4ba7-9e5c-098e5687d834",
   "metadata": {},
   "outputs": [
    {
     "name": "stdout",
     "output_type": "stream",
     "text": [
      "with p=0.551, graph 1111101100 gives competitive ratio 2.651\n"
     ]
    }
   ],
   "source": [
    "print(f\"with {p=:.4g}, graph {G_str} gives competitive ratio {comp_ratio:.5g}\")"
   ]
  },
  {
   "cell_type": "code",
   "execution_count": 105,
   "id": "072252c5-c031-4381-9c78-07c82f34a391",
   "metadata": {},
   "outputs": [
    {
     "name": "stdout",
     "output_type": "stream",
     "text": [
      "(1, 2)\n",
      "(1, 3)\n",
      "(2, 3)\n",
      "(1, 4)\n",
      "(2, 4)\n",
      "(1, 5)\n",
      "(2, 5)\n"
     ]
    }
   ],
   "source": [
    "for j, e in enumerate(G_str):\n",
    "    if e == \"1\":\n",
    "        x, y = find_edge(j)\n",
    "        print((x+1, y+1))"
   ]
  },
  {
   "cell_type": "code",
   "execution_count": null,
   "id": "6954de64-83a5-49ad-9d25-8ba0788e08e0",
   "metadata": {},
   "outputs": [],
   "source": []
  }
 ],
 "metadata": {
  "kernelspec": {
   "display_name": "Python [conda env:test]",
   "language": "python",
   "name": "conda-env-test-py"
  },
  "language_info": {
   "codemirror_mode": {
    "name": "ipython",
    "version": 3
   },
   "file_extension": ".py",
   "mimetype": "text/x-python",
   "name": "python",
   "nbconvert_exporter": "python",
   "pygments_lexer": "ipython3",
   "version": "3.10.0"
  }
 },
 "nbformat": 4,
 "nbformat_minor": 5
}
